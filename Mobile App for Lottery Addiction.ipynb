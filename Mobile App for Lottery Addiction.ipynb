{
 "cells": [
  {
   "cell_type": "markdown",
   "metadata": {},
   "source": [
    "## application mobile pour la dépendance à la loterie\n",
    "\n",
    "Dans ce projet, nous allons contribuer au développement d'une application mobile en écrivant quelques fonctions principalement axées sur le calcul des probabilités. L'application vise à la fois à prévenir et à traiter la dépendance à la loterie en aidant les gens à mieux estimer leurs chances de gagner.\n",
    "\n",
    "L'idée de l'application vient d'un institut médical spécialisé dans le traitement des dépendances au jeu. L'institut dispose déjà d'une équipe d'ingénieurs qui construira l'application, mais ils ont besoin de nous pour créer le noyau logique de l'application et calculer les probabilités. Pour la première version de l'application, ils veulent que nous nous concentrions sur la loterie 6/49 et que nous construisions des fonctions capables de répondre aux questions suivantes:\n",
    "\n",
    " -   Quelle est la probabilité de gagner le gros lot avec un seul billet?\n",
    " -   Quelle est la probabilité de gagner le gros lot si nous jouons 40 tickets différents (ou tout autre nombre)?\n",
    " -   Quelle est la probabilité d'avoir au moins cinq (ou quatre, ou trois) numéros gagnants sur un seul billet?\n",
    "\n",
    "Le scénario que nous suivons tout au long de ce projet est fictif - l'objectif principal est de pratiquer l'application des concepts de probabilité et de combinatoire (permutations et combinaisons) dans un cadre qui simule un scénario du monde réel.\n",
    "\n",
    "### Fonctions principales\n",
    "\n",
    "Ci-dessous, nous allons écrire deux fonctions que nous utiliserons fréquemment:\n",
    "\n",
    "   -  factorial() - une fonction qui calcule les factorielles\n",
    "   -  combinations() - une fonction qui calcule les combinaisons"
   ]
  },
  {
   "cell_type": "code",
   "execution_count": 1,
   "metadata": {},
   "outputs": [],
   "source": [
    "def factorial(n):\n",
    "    result = 1\n",
    "    for i in range(1,n+1):\n",
    "        result *= i\n",
    "    return result\n",
    "\n",
    "def combinations(n, k):\n",
    "    return factorial(n)/(factorial(k)*factorial(n-k))"
   ]
  },
  {
   "cell_type": "markdown",
   "metadata": {},
   "source": [
    "### Probabilité avec un ticket\n",
    "\n",
    "Nous devons créer une fonction qui calcule la probabilité de gagner le gros prix pour un ticket donné. Pour chaque tirage, six numéros sont tirés d'un ensemble de 49, et un joueur gagne le gros lot si les six numéros sur leurs billets correspondent à tous les six numéros.\n",
    "\n",
    "L'équipe d'ingénieurs nous a dit que nous devons être conscients des détails suivants lorsque nous écrivons la fonction:\n",
    "\n",
    "   -  Dans l'application, l'utilisateur entre six nombres différents de 1 à 49.\n",
    "   -  Sous le capot, les six nombres viendront sous forme de liste Python et serviront d'entrée à notre fonction.\n",
    "   -  L'équipe d'ingénierie souhaite que la fonction imprime la valeur de probabilité de manière amicale - d'une manière que les personnes sans formation de probabilité soient capables de comprendre.\n",
    "\n",
    "Ci-dessous, nous écrivons la fonction one_ticket_probability(), qui prend une liste de six nombres uniques et imprime la probabilité de gagner d'une manière facile à comprendre."
   ]
  },
  {
   "cell_type": "code",
   "execution_count": 2,
   "metadata": {},
   "outputs": [],
   "source": [
    "def one_ticket_probability(liste):\n",
    "    total_outcomes = combinations(49,6)\n",
    "    prob_1_ticket = 1/total_outcomes\n",
    "    perc_1_ticket = prob_1_ticket * 100\n",
    "    print('''vous avez {: .7f}% de probabilité de gagner à la loterie avec votre combinaison {}, {}, {}, {}, {}, {}.\n",
    "           En d'autres termes, vous avez 1 sur {:,} chances de gagner.'''.format(perc_1_ticket,\n",
    "                                                                                 liste[0], liste[1], liste[2],\n",
    "                                                                                 liste[3], liste[4], liste[5],\n",
    "                                                                                 int(total_outcomes)))"
   ]
  },
  {
   "cell_type": "code",
   "execution_count": 3,
   "metadata": {},
   "outputs": [
    {
     "name": "stdout",
     "output_type": "stream",
     "text": [
      "vous avez  0.0000072% de probabilité de gagner à la loterie avec votre combinaison 1, 2, 3, 4, 5, 6.\n",
      "           En d'autres termes, vous avez 1 sur 13,983,816 chances de gagner.\n"
     ]
    }
   ],
   "source": [
    "a = [1,2,3,4,5,6]\n",
    "one_ticket_probability(a)"
   ]
  },
  {
   "cell_type": "markdown",
   "metadata": {},
   "source": [
    "### Vérification des données historiques pour la loterie du Canada\n",
    "\n",
    "L'institut souhaite également que nous considérions les données provenant du jeu de loterie national 6/49 au Canada. L'ensemble de données contient des données historiques pour 3665 dessins, datant de 1982 à 2018 (l'ensemble de données peut être téléchargé [ici](https://www.kaggle.com/datascienceai/lottery-dataset))."
   ]
  },
  {
   "cell_type": "code",
   "execution_count": 4,
   "metadata": {},
   "outputs": [
    {
     "data": {
      "text/plain": [
       "(3665, 11)"
      ]
     },
     "execution_count": 4,
     "metadata": {},
     "output_type": "execute_result"
    }
   ],
   "source": [
    "import pandas as pd\n",
    "lottery_canada = pd.read_csv('OneDrive\\Documents\\my_datasets\\L649.csv')\n",
    "lottery_canada.shape"
   ]
  },
  {
   "cell_type": "code",
   "execution_count": 5,
   "metadata": {
    "scrolled": true
   },
   "outputs": [
    {
     "data": {
      "text/html": [
       "<div>\n",
       "<style scoped>\n",
       "    .dataframe tbody tr th:only-of-type {\n",
       "        vertical-align: middle;\n",
       "    }\n",
       "\n",
       "    .dataframe tbody tr th {\n",
       "        vertical-align: top;\n",
       "    }\n",
       "\n",
       "    .dataframe thead th {\n",
       "        text-align: right;\n",
       "    }\n",
       "</style>\n",
       "<table border=\"1\" class=\"dataframe\">\n",
       "  <thead>\n",
       "    <tr style=\"text-align: right;\">\n",
       "      <th></th>\n",
       "      <th>PRODUCT</th>\n",
       "      <th>DRAW NUMBER</th>\n",
       "      <th>SEQUENCE NUMBER</th>\n",
       "      <th>DRAW DATE</th>\n",
       "      <th>NUMBER DRAWN 1</th>\n",
       "      <th>NUMBER DRAWN 2</th>\n",
       "      <th>NUMBER DRAWN 3</th>\n",
       "      <th>NUMBER DRAWN 4</th>\n",
       "      <th>NUMBER DRAWN 5</th>\n",
       "      <th>NUMBER DRAWN 6</th>\n",
       "      <th>BONUS NUMBER</th>\n",
       "    </tr>\n",
       "  </thead>\n",
       "  <tbody>\n",
       "    <tr>\n",
       "      <th>0</th>\n",
       "      <td>649</td>\n",
       "      <td>1</td>\n",
       "      <td>0</td>\n",
       "      <td>6/12/1982</td>\n",
       "      <td>3</td>\n",
       "      <td>11</td>\n",
       "      <td>12</td>\n",
       "      <td>14</td>\n",
       "      <td>41</td>\n",
       "      <td>43</td>\n",
       "      <td>13</td>\n",
       "    </tr>\n",
       "    <tr>\n",
       "      <th>1</th>\n",
       "      <td>649</td>\n",
       "      <td>2</td>\n",
       "      <td>0</td>\n",
       "      <td>6/19/1982</td>\n",
       "      <td>8</td>\n",
       "      <td>33</td>\n",
       "      <td>36</td>\n",
       "      <td>37</td>\n",
       "      <td>39</td>\n",
       "      <td>41</td>\n",
       "      <td>9</td>\n",
       "    </tr>\n",
       "    <tr>\n",
       "      <th>2</th>\n",
       "      <td>649</td>\n",
       "      <td>3</td>\n",
       "      <td>0</td>\n",
       "      <td>6/26/1982</td>\n",
       "      <td>1</td>\n",
       "      <td>6</td>\n",
       "      <td>23</td>\n",
       "      <td>24</td>\n",
       "      <td>27</td>\n",
       "      <td>39</td>\n",
       "      <td>34</td>\n",
       "    </tr>\n",
       "  </tbody>\n",
       "</table>\n",
       "</div>"
      ],
      "text/plain": [
       "   PRODUCT  DRAW NUMBER  SEQUENCE NUMBER  DRAW DATE  NUMBER DRAWN 1  \\\n",
       "0      649            1                0  6/12/1982               3   \n",
       "1      649            2                0  6/19/1982               8   \n",
       "2      649            3                0  6/26/1982               1   \n",
       "\n",
       "   NUMBER DRAWN 2  NUMBER DRAWN 3  NUMBER DRAWN 4  NUMBER DRAWN 5  \\\n",
       "0              11              12              14              41   \n",
       "1              33              36              37              39   \n",
       "2               6              23              24              27   \n",
       "\n",
       "   NUMBER DRAWN 6  BONUS NUMBER  \n",
       "0              43            13  \n",
       "1              41             9  \n",
       "2              39            34  "
      ]
     },
     "execution_count": 5,
     "metadata": {},
     "output_type": "execute_result"
    }
   ],
   "source": [
    "lottery_canada.head(3)"
   ]
  },
  {
   "cell_type": "code",
   "execution_count": 6,
   "metadata": {},
   "outputs": [
    {
     "data": {
      "text/html": [
       "<div>\n",
       "<style scoped>\n",
       "    .dataframe tbody tr th:only-of-type {\n",
       "        vertical-align: middle;\n",
       "    }\n",
       "\n",
       "    .dataframe tbody tr th {\n",
       "        vertical-align: top;\n",
       "    }\n",
       "\n",
       "    .dataframe thead th {\n",
       "        text-align: right;\n",
       "    }\n",
       "</style>\n",
       "<table border=\"1\" class=\"dataframe\">\n",
       "  <thead>\n",
       "    <tr style=\"text-align: right;\">\n",
       "      <th></th>\n",
       "      <th>PRODUCT</th>\n",
       "      <th>DRAW NUMBER</th>\n",
       "      <th>SEQUENCE NUMBER</th>\n",
       "      <th>DRAW DATE</th>\n",
       "      <th>NUMBER DRAWN 1</th>\n",
       "      <th>NUMBER DRAWN 2</th>\n",
       "      <th>NUMBER DRAWN 3</th>\n",
       "      <th>NUMBER DRAWN 4</th>\n",
       "      <th>NUMBER DRAWN 5</th>\n",
       "      <th>NUMBER DRAWN 6</th>\n",
       "      <th>BONUS NUMBER</th>\n",
       "    </tr>\n",
       "  </thead>\n",
       "  <tbody>\n",
       "    <tr>\n",
       "      <th>3662</th>\n",
       "      <td>649</td>\n",
       "      <td>3589</td>\n",
       "      <td>0</td>\n",
       "      <td>6/13/2018</td>\n",
       "      <td>6</td>\n",
       "      <td>22</td>\n",
       "      <td>24</td>\n",
       "      <td>31</td>\n",
       "      <td>32</td>\n",
       "      <td>34</td>\n",
       "      <td>16</td>\n",
       "    </tr>\n",
       "    <tr>\n",
       "      <th>3663</th>\n",
       "      <td>649</td>\n",
       "      <td>3590</td>\n",
       "      <td>0</td>\n",
       "      <td>6/16/2018</td>\n",
       "      <td>2</td>\n",
       "      <td>15</td>\n",
       "      <td>21</td>\n",
       "      <td>31</td>\n",
       "      <td>38</td>\n",
       "      <td>49</td>\n",
       "      <td>8</td>\n",
       "    </tr>\n",
       "    <tr>\n",
       "      <th>3664</th>\n",
       "      <td>649</td>\n",
       "      <td>3591</td>\n",
       "      <td>0</td>\n",
       "      <td>6/20/2018</td>\n",
       "      <td>14</td>\n",
       "      <td>24</td>\n",
       "      <td>31</td>\n",
       "      <td>35</td>\n",
       "      <td>37</td>\n",
       "      <td>48</td>\n",
       "      <td>17</td>\n",
       "    </tr>\n",
       "  </tbody>\n",
       "</table>\n",
       "</div>"
      ],
      "text/plain": [
       "      PRODUCT  DRAW NUMBER  SEQUENCE NUMBER  DRAW DATE  NUMBER DRAWN 1  \\\n",
       "3662      649         3589                0  6/13/2018               6   \n",
       "3663      649         3590                0  6/16/2018               2   \n",
       "3664      649         3591                0  6/20/2018              14   \n",
       "\n",
       "      NUMBER DRAWN 2  NUMBER DRAWN 3  NUMBER DRAWN 4  NUMBER DRAWN 5  \\\n",
       "3662              22              24              31              32   \n",
       "3663              15              21              31              38   \n",
       "3664              24              31              35              37   \n",
       "\n",
       "      NUMBER DRAWN 6  BONUS NUMBER  \n",
       "3662              34            16  \n",
       "3663              49             8  \n",
       "3664              48            17  "
      ]
     },
     "execution_count": 6,
     "metadata": {},
     "output_type": "execute_result"
    }
   ],
   "source": [
    "lottery_canada.tail(3)"
   ]
  },
  {
   "cell_type": "markdown",
   "metadata": {},
   "source": [
    "## Fonction de vérification des données historiques¶\n",
    "\n",
    "L'équipe d'ingénierie nous dit que nous devons écrire une fonction qui peut aider les utilisateurs à déterminer s'ils auraient déjà gagné en utilisant une certaine combinaison de six nombres. Voici les détails dont nous devons être conscients:\n",
    "\n",
    "  -   Dans l'application, l'utilisateur entre six nombres différents de 1 à 49.\n",
    "  -   Sous le capot, les six nombres viendront sous forme de liste Python et serviront d'entrée à notre fonction.\n",
    "  -   L'équipe d'ingénierie veut que nous écrivions une fonction qui imprime le nombre de fois où la combinaison sélectionnée s'est produite.\n",
    "\n",
    "Nous allons commencer par extraire tous les numéros gagnants de l'ensemble de données de loterie. La fonction extract_numbers() parcourra chaque ligne du dataframe et extraira les six numéros gagnants sous la forme d'un ensemble Python."
   ]
  },
  {
   "cell_type": "code",
   "execution_count": 7,
   "metadata": {
    "scrolled": true
   },
   "outputs": [
    {
     "data": {
      "text/plain": [
       "0    {3, 41, 11, 12, 43, 14}\n",
       "1    {33, 36, 37, 39, 8, 41}\n",
       "2     {1, 6, 39, 23, 24, 27}\n",
       "3     {3, 9, 10, 43, 13, 20}\n",
       "4    {34, 5, 14, 47, 21, 31}\n",
       "dtype: object"
      ]
     },
     "execution_count": 7,
     "metadata": {},
     "output_type": "execute_result"
    }
   ],
   "source": [
    "def extract_numbers(row):\n",
    "    row = row[4:10]\n",
    "    row = set(row.values)\n",
    "    return row\n",
    "\n",
    "winning_numbers = lottery_canada.apply(extract_numbers, axis=1)\n",
    "winning_numbers.head()"
   ]
  },
  {
   "cell_type": "markdown",
   "metadata": {},
   "source": [
    "Ci-dessous, nous écrivons la fonction check_historical_occurrence() qui prend en compte les numéros d'utilisateur et les numéros historiques et imprime des informations concernant le nombre d'occurrences."
   ]
  },
  {
   "cell_type": "code",
   "execution_count": 8,
   "metadata": {},
   "outputs": [],
   "source": [
    "def check_historical_occurrence(user_numbers, historical_numbers):   \n",
    "    \n",
    "    user_numbers_set = set(user_numbers)\n",
    "    check_occurrence = historical_numbers == user_numbers_set\n",
    "    n_occurrences = check_occurrence.sum()\n",
    "    \n",
    "    if n_occurrences == 0:\n",
    "        print('''La combinaison {} ne s'est jamais produite.'''.format(user_numbers))\n",
    "        \n",
    "    else:\n",
    "        print('''Le nombre de fois que la combinaison {} s'est produite dans le passé est {}.'''.format(user_numbers, n_occurrences))"
   ]
  },
  {
   "cell_type": "code",
   "execution_count": 9,
   "metadata": {},
   "outputs": [
    {
     "name": "stdout",
     "output_type": "stream",
     "text": [
      "Le nombre de fois que la combinaison [33, 36, 37, 39, 8, 41] s'est produite dans le passé est 1.\n"
     ]
    }
   ],
   "source": [
    "test_input_3 = [33, 36, 37, 39, 8, 41]\n",
    "check_historical_occurrence(test_input_3, winning_numbers)"
   ]
  },
  {
   "cell_type": "code",
   "execution_count": 10,
   "metadata": {},
   "outputs": [
    {
     "name": "stdout",
     "output_type": "stream",
     "text": [
      "La combinaison [3, 2, 44, 22, 1, 44] ne s'est jamais produite.\n"
     ]
    }
   ],
   "source": [
    "test_input_4 = [3, 2, 44, 22, 1, 44]\n",
    "check_historical_occurrence(test_input_4, winning_numbers)"
   ]
  },
  {
   "cell_type": "markdown",
   "metadata": {},
   "source": [
    "## Probabilité multi-ticket\n",
    "\n",
    "Pour la première version de l'application, les utilisateurs devraient également être en mesure de trouver la probabilité de gagner s'ils jouent plusieurs tickets différents. Par exemple, quelqu'un peut avoir l'intention de jouer 15 billets différents et il veut connaître la probabilité de gagner le gros lot.\n",
    "\n",
    "L'équipe d'ingénierie souhaite que nous soyons conscients des détails suivants lorsque nous écrivons la fonction:\n",
    "\n",
    "  -   L'utilisateur saisira le nombre de tickets différents auxquels il souhaite jouer (sans saisir les combinaisons spécifiques qu'il souhaite jouer).\n",
    "  -   Notre fonction verra un entier entre 1 et 13 983 816 (le nombre maximum de tickets différents).\n",
    "  -   La fonction doit imprimer des informations sur la probabilité de gagner le gros prix en fonction du nombre de tickets différents joués.\n",
    "\n",
    "La fonction multi_ticket_probability() ci-dessous prend le nombre de tickets et imprime les informations de probabilité en fonction de l'entrée."
   ]
  },
  {
   "cell_type": "code",
   "execution_count": 11,
   "metadata": {},
   "outputs": [],
   "source": [
    "def multi_ticket_probability(n_tickets):\n",
    "    \n",
    "    n_combinations = combinations(49, 6)\n",
    "    \n",
    "    probability = n_tickets / n_combinations\n",
    "    percentage_form = probability * 100\n",
    "    \n",
    "    if n_tickets == 1:\n",
    "        print('''Vos chances de gagner le gros lot avec un seul billet sont de {: .6f}%.\n",
    "En d'autres termes, vous avez 1 sur {:,} chances de gagner.'''.format(percentage_form, int(n_combinations)))\n",
    "    \n",
    "    else:\n",
    "        combinations_simplified = round(n_combinations / n_tickets)   \n",
    "        print('''Vos chances de gagner le gros lot avec {:,} différents billets sont de {: .6f}%.\n",
    "En d'autres termes, vous avez 1 sur {:,} chances de gagner.'''.format(n_tickets, percentage_form,\n",
    "                                                               combinations_simplified))"
   ]
  },
  {
   "cell_type": "code",
   "execution_count": 12,
   "metadata": {},
   "outputs": [
    {
     "name": "stdout",
     "output_type": "stream",
     "text": [
      "Vos chances de gagner le gros lot avec un seul billet sont de  0.000007%.\n",
      "En d'autres termes, vous avez 1 sur 13,983,816 chances de gagner.\n",
      "------------------------\n",
      "Vos chances de gagner le gros lot avec 10 différents billets sont de  0.000072%.\n",
      "En d'autres termes, vous avez 1 sur 1,398,382 chances de gagner.\n",
      "------------------------\n",
      "Vos chances de gagner le gros lot avec 100 différents billets sont de  0.000715%.\n",
      "En d'autres termes, vous avez 1 sur 139,838 chances de gagner.\n",
      "------------------------\n",
      "Vos chances de gagner le gros lot avec 10,000 différents billets sont de  0.071511%.\n",
      "En d'autres termes, vous avez 1 sur 1,398 chances de gagner.\n",
      "------------------------\n",
      "Vos chances de gagner le gros lot avec 1,000,000 différents billets sont de  7.151124%.\n",
      "En d'autres termes, vous avez 1 sur 14 chances de gagner.\n",
      "------------------------\n",
      "Vos chances de gagner le gros lot avec 6,991,908 différents billets sont de  50.000000%.\n",
      "En d'autres termes, vous avez 1 sur 2 chances de gagner.\n",
      "------------------------\n",
      "Vos chances de gagner le gros lot avec 13,983,816 différents billets sont de  100.000000%.\n",
      "En d'autres termes, vous avez 1 sur 1 chances de gagner.\n",
      "------------------------\n"
     ]
    }
   ],
   "source": [
    "test_inputs = [1, 10, 100, 10000, 1000000, 6991908, 13983816]\n",
    "\n",
    "for test_input in test_inputs:\n",
    "    multi_ticket_probability(test_input)\n",
    "    print('------------------------')"
   ]
  },
  {
   "cell_type": "markdown",
   "metadata": {},
   "source": [
    "## Moins de numéros gagnants\n",
    "\n",
    "Dans la plupart des loteries 6/49, il y a des prix plus petits si le billet d'un joueur correspond à deux, trois, quatre ou cinq des six numéros tirés. Cela signifie que les joueurs pourraient être intéressés à découvrir la probabilité d'avoir deux, trois, quatre ou cinq numéros gagnants - pour la première version de l'application, les utilisateurs devraient être en mesure de trouver ces probabilités.\n",
    "\n",
    "Voici les détails dont nous devons être conscients lorsque nous écrivons une fonction pour rendre les calculs de ces probabilités possibles:\n",
    "\n",
    "  -  Dans l'application, l'utilisateur saisit:\n",
    "      -  six nombres différents de 1 à 49; et\n",
    "      -  un entier entre 2 et 5 qui représente le nombre de numéros gagnants attendus\n",
    "  -  Notre fonction imprime des informations sur la probabilité d'avoir un certain nombre de numéros gagnants\n",
    "\n",
    "Pour calculer les probabilités, nous disons à l'équipe d'ingénierie que la combinaison spécifique sur le ticket n'est pas pertinente et que nous n'avons besoin que de l'entier entre 2 et 5 représentant le nombre de numéros gagnants attendus. Par conséquent, nous écrirons une fonction nommée probabilité_less_6() qui prend un entier et affiche des informations sur les chances de gagner en fonction de la valeur de cet entier.\n",
    "\n",
    "La fonction ci-dessous calcule la probabilité que le ticket d'un joueur corresponde exactement au nombre donné de numéros gagnants. Si le joueur veut connaître la probabilité d'avoir cinq numéros gagnants, la fonction retournera la probabilité d'avoir exactement cinq numéros gagnants (ni plus ni moins). La fonction ne renvoie pas la probabilité d'avoir au moins cinq numéros gagnants."
   ]
  },
  {
   "cell_type": "code",
   "execution_count": 13,
   "metadata": {},
   "outputs": [],
   "source": [
    "def probability_less_6(n_winning_numbers):\n",
    "    \n",
    "    n_combinations_ticket = combinations(6, n_winning_numbers)\n",
    "    n_combinations_remaining = combinations(43, 6 - n_winning_numbers)\n",
    "    successful_outcomes = n_combinations_ticket * n_combinations_remaining\n",
    "    \n",
    "    n_combinations_total = combinations(49, 6)    \n",
    "    probability = successful_outcomes / n_combinations_total\n",
    "    \n",
    "    probability_percentage = probability * 100    \n",
    "    combinations_simplified = round(n_combinations_total/successful_outcomes)    \n",
    "    print('''Vos chances d'avoir {} numéros gagnants avec ce billet sont de {: .6f}%.\n",
    "En d'autres termes, vous avez 1 sur {:,} chances de gagner.'''.format(n_winning_numbers, probability_percentage,\n",
    "                                                                      int(combinations_simplified)))"
   ]
  },
  {
   "cell_type": "code",
   "execution_count": 14,
   "metadata": {},
   "outputs": [
    {
     "name": "stdout",
     "output_type": "stream",
     "text": [
      "Vos chances d'avoir 2 numéros gagnants avec ce billet sont de  13.237803%.\n",
      "En d'autres termes, vous avez 1 sur 8 chances de gagner.\n",
      "--------------------------\n",
      "Vos chances d'avoir 3 numéros gagnants avec ce billet sont de  1.765040%.\n",
      "En d'autres termes, vous avez 1 sur 57 chances de gagner.\n",
      "--------------------------\n",
      "Vos chances d'avoir 4 numéros gagnants avec ce billet sont de  0.096862%.\n",
      "En d'autres termes, vous avez 1 sur 1,032 chances de gagner.\n",
      "--------------------------\n",
      "Vos chances d'avoir 5 numéros gagnants avec ce billet sont de  0.001845%.\n",
      "En d'autres termes, vous avez 1 sur 54,201 chances de gagner.\n",
      "--------------------------\n"
     ]
    }
   ],
   "source": [
    "for test_input in [2, 3, 4, 5]:\n",
    "    probability_less_6(test_input)\n",
    "    print('--------------------------')"
   ]
  }
 ],
 "metadata": {
  "kernelspec": {
   "display_name": "Python 3",
   "language": "python",
   "name": "python3"
  },
  "language_info": {
   "codemirror_mode": {
    "name": "ipython",
    "version": 3
   },
   "file_extension": ".py",
   "mimetype": "text/x-python",
   "name": "python",
   "nbconvert_exporter": "python",
   "pygments_lexer": "ipython3",
   "version": "3.8.3"
  }
 },
 "nbformat": 4,
 "nbformat_minor": 4
}
